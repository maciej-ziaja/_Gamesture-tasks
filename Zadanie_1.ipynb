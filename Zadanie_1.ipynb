{
 "cells": [
  {
   "cell_type": "code",
   "execution_count": null,
   "metadata": {},
   "outputs": [],
   "source": [
    "# Do pobrania danych z bazy użyłbym query:\n",
    "\n",
    "'''\n",
    "WITH f_player_info AS (\n",
    "\t\t\t\t\t\tSELECT \n",
    "\t\t\t\t\t\t\t\tPLAYER_ID,\n",
    "\t\t\t\t\t\t\t\tINSTALL_TIME,\n",
    "\t\t\t\t\t\t\t\tPLATFORM,\n",
    "\t\t\t\t\t\t\t\tMEDIA_SOURCE,\n",
    "\t\t\t\t\t\t\t\tTYPE,\n",
    "\t\t\t\t\t\t\t\tCASE\n",
    "\t\t\t\t\t\t\t\t\tWHEN CAMPAIGN IS NULL THEN 'no_data'\n",
    "\t\t\t\t\t\t\t\t\tELSE CAMPAIGN END AS CAMPAIGN\n",
    "\t\t\t\t\t\tFROM player_info\n",
    "\t\t\t\t\t   )\n",
    "SELECT * \n",
    "FROM dau AS d \n",
    "INNER JOIN f_player_info AS p ON d.PLAYER_ID = p.PLAYER_ID\n",
    "'''\n",
    "\n",
    "# To pozwoliłoby mi uzyskać dane do dalszej analizy"
   ]
  },
  {
   "cell_type": "code",
   "execution_count": 210,
   "metadata": {},
   "outputs": [],
   "source": [
    "import tabula\n",
    "import pandas as pd\n",
    "import seaborn as sns\n",
    "import matplotlib.pyplot as plt"
   ]
  },
  {
   "attachments": {},
   "cell_type": "markdown",
   "metadata": {},
   "source": [
    "#### dau"
   ]
  },
  {
   "cell_type": "code",
   "execution_count": 94,
   "metadata": {},
   "outputs": [],
   "source": [
    "#Odczytaj pdf\n",
    "dau_df_list = tabula.read_pdf('DAU.pdf',stream=True,pages='all', pandas_options={\"header\":None})"
   ]
  },
  {
   "cell_type": "code",
   "execution_count": 97,
   "metadata": {},
   "outputs": [
    {
     "data": {
      "text/plain": [
       "1119"
      ]
     },
     "execution_count": 97,
     "metadata": {},
     "output_type": "execute_result"
    }
   ],
   "source": [
    "len(dau_df_list)"
   ]
  },
  {
   "cell_type": "code",
   "execution_count": 102,
   "metadata": {},
   "outputs": [],
   "source": [
    "#Połącz strony\n",
    "dau_df = pd.DataFrame()\n",
    "for page in range(1119):\n",
    "    dau_df = pd.concat([dau_df,dau_df_list[page]])"
   ]
  },
  {
   "cell_type": "code",
   "execution_count": 103,
   "metadata": {},
   "outputs": [],
   "source": [
    "#Zmień nazwy nagłówków\n",
    "dau_df.rename(columns={0:'DATE_DAY',1:'DAY_OF_GAME',2:'PLAYER_ID',3:'PLATFORM',4:'GEMS',5:'ENERGY',6:'LEVEL',7:'COUNTRY_CODE',8:'PAID_IN_DAY'},inplace=True)\n",
    "dau_df.reset_index(inplace=True,drop=True)\n",
    "dau_df.drop(labels=0,axis=0,inplace=True)\n"
   ]
  },
  {
   "attachments": {},
   "cell_type": "markdown",
   "metadata": {},
   "source": [
    "#### player_info"
   ]
  },
  {
   "cell_type": "code",
   "execution_count": 105,
   "metadata": {},
   "outputs": [],
   "source": [
    "#Odczytaj pdf\n",
    "player_df_list = tabula.read_pdf('player_info.pdf',stream=True,pages='all', pandas_options={\"header\":None})"
   ]
  },
  {
   "cell_type": "code",
   "execution_count": 106,
   "metadata": {},
   "outputs": [
    {
     "data": {
      "text/plain": [
       "197"
      ]
     },
     "execution_count": 106,
     "metadata": {},
     "output_type": "execute_result"
    }
   ],
   "source": [
    "len(player_df_list)"
   ]
  },
  {
   "cell_type": "code",
   "execution_count": 118,
   "metadata": {},
   "outputs": [],
   "source": [
    "#Połącz strony\n",
    "player_df = pd.DataFrame()\n",
    "for page in range(197):\n",
    "    player_df = pd.concat([player_df,player_df_list[page]])"
   ]
  },
  {
   "cell_type": "code",
   "execution_count": 119,
   "metadata": {},
   "outputs": [],
   "source": [
    "#Zmień nazwy nagłówków\n",
    "player_df.rename(columns={0:'PLAYER_ID',1:'INSTALL_TIME',2:'PLATFORM',3:'MEDIA_SOURCE',4:'CAMPAIGN',5:'TYPE'},inplace=True)\n",
    "player_df.reset_index(inplace=True,drop=True)\n",
    "player_df.drop(labels=0,axis=0,inplace=True)"
   ]
  },
  {
   "cell_type": "code",
   "execution_count": 159,
   "metadata": {},
   "outputs": [],
   "source": [
    "# Łączy dwie tabele w całość (wynik jak z zaproponowanego query)\n",
    "data_df = pd.merge(dau_df, player_df, how='inner', on='PLAYER_ID')"
   ]
  },
  {
   "cell_type": "code",
   "execution_count": 160,
   "metadata": {},
   "outputs": [],
   "source": [
    "# Wypełnia puste kampanie\n",
    "data_df['CAMPAIGN'] = data_df['CAMPAIGN'].fillna('no_data')"
   ]
  },
  {
   "cell_type": "code",
   "execution_count": 161,
   "metadata": {},
   "outputs": [],
   "source": [
    "# Usuwa duplikat platformy\n",
    "data_df.drop('PLATFORM_y',axis=1,inplace=True)\n",
    "data_df.rename(columns={'PLATFORM_x':'PLATFORM'},inplace=True)"
   ]
  },
  {
   "cell_type": "code",
   "execution_count": 162,
   "metadata": {},
   "outputs": [
    {
     "data": {
      "text/html": [
       "<div>\n",
       "<style scoped>\n",
       "    .dataframe tbody tr th:only-of-type {\n",
       "        vertical-align: middle;\n",
       "    }\n",
       "\n",
       "    .dataframe tbody tr th {\n",
       "        vertical-align: top;\n",
       "    }\n",
       "\n",
       "    .dataframe thead th {\n",
       "        text-align: right;\n",
       "    }\n",
       "</style>\n",
       "<table border=\"1\" class=\"dataframe\">\n",
       "  <thead>\n",
       "    <tr style=\"text-align: right;\">\n",
       "      <th></th>\n",
       "      <th>DATE_DAY</th>\n",
       "      <th>DAY_OF_GAME</th>\n",
       "      <th>PLAYER_ID</th>\n",
       "      <th>PLATFORM</th>\n",
       "      <th>GEMS</th>\n",
       "      <th>ENERGY</th>\n",
       "      <th>LEVEL</th>\n",
       "      <th>COUNTRY_CODE</th>\n",
       "      <th>PAID_IN_DAY</th>\n",
       "      <th>INSTALL_TIME</th>\n",
       "      <th>MEDIA_SOURCE</th>\n",
       "      <th>CAMPAIGN</th>\n",
       "      <th>TYPE</th>\n",
       "    </tr>\n",
       "  </thead>\n",
       "  <tbody>\n",
       "    <tr>\n",
       "      <th>0</th>\n",
       "      <td>2022-02-18</td>\n",
       "      <td>40</td>\n",
       "      <td>31690</td>\n",
       "      <td>android</td>\n",
       "      <td>4</td>\n",
       "      <td>0</td>\n",
       "      <td>50</td>\n",
       "      <td>DE</td>\n",
       "      <td>0</td>\n",
       "      <td>2022-01-09 18:26:37.000</td>\n",
       "      <td>Organic</td>\n",
       "      <td>Organic</td>\n",
       "      <td>Organic</td>\n",
       "    </tr>\n",
       "    <tr>\n",
       "      <th>1</th>\n",
       "      <td>2022-02-27</td>\n",
       "      <td>49</td>\n",
       "      <td>31690</td>\n",
       "      <td>android</td>\n",
       "      <td>0</td>\n",
       "      <td>243</td>\n",
       "      <td>53</td>\n",
       "      <td>DE</td>\n",
       "      <td>10</td>\n",
       "      <td>2022-01-09 18:26:37.000</td>\n",
       "      <td>Organic</td>\n",
       "      <td>Organic</td>\n",
       "      <td>Organic</td>\n",
       "    </tr>\n",
       "    <tr>\n",
       "      <th>2</th>\n",
       "      <td>2022-01-17</td>\n",
       "      <td>8</td>\n",
       "      <td>31690</td>\n",
       "      <td>android</td>\n",
       "      <td>6</td>\n",
       "      <td>6</td>\n",
       "      <td>26</td>\n",
       "      <td>DE</td>\n",
       "      <td>0</td>\n",
       "      <td>2022-01-09 18:26:37.000</td>\n",
       "      <td>Organic</td>\n",
       "      <td>Organic</td>\n",
       "      <td>Organic</td>\n",
       "    </tr>\n",
       "    <tr>\n",
       "      <th>3</th>\n",
       "      <td>2022-01-19</td>\n",
       "      <td>10</td>\n",
       "      <td>31690</td>\n",
       "      <td>android</td>\n",
       "      <td>0</td>\n",
       "      <td>0</td>\n",
       "      <td>28</td>\n",
       "      <td>DE</td>\n",
       "      <td>0</td>\n",
       "      <td>2022-01-09 18:26:37.000</td>\n",
       "      <td>Organic</td>\n",
       "      <td>Organic</td>\n",
       "      <td>Organic</td>\n",
       "    </tr>\n",
       "    <tr>\n",
       "      <th>4</th>\n",
       "      <td>2022-02-09</td>\n",
       "      <td>31</td>\n",
       "      <td>31690</td>\n",
       "      <td>android</td>\n",
       "      <td>1</td>\n",
       "      <td>50</td>\n",
       "      <td>44</td>\n",
       "      <td>DE</td>\n",
       "      <td>0</td>\n",
       "      <td>2022-01-09 18:26:37.000</td>\n",
       "      <td>Organic</td>\n",
       "      <td>Organic</td>\n",
       "      <td>Organic</td>\n",
       "    </tr>\n",
       "  </tbody>\n",
       "</table>\n",
       "</div>"
      ],
      "text/plain": [
       "     DATE_DAY DAY_OF_GAME PLAYER_ID PLATFORM GEMS ENERGY LEVEL COUNTRY_CODE  \\\n",
       "0  2022-02-18          40     31690  android    4      0    50           DE   \n",
       "1  2022-02-27          49     31690  android    0    243    53           DE   \n",
       "2  2022-01-17           8     31690  android    6      6    26           DE   \n",
       "3  2022-01-19          10     31690  android    0      0    28           DE   \n",
       "4  2022-02-09          31     31690  android    1     50    44           DE   \n",
       "\n",
       "  PAID_IN_DAY             INSTALL_TIME MEDIA_SOURCE CAMPAIGN     TYPE  \n",
       "0           0  2022-01-09 18:26:37.000      Organic  Organic  Organic  \n",
       "1          10  2022-01-09 18:26:37.000      Organic  Organic  Organic  \n",
       "2           0  2022-01-09 18:26:37.000      Organic  Organic  Organic  \n",
       "3           0  2022-01-09 18:26:37.000      Organic  Organic  Organic  \n",
       "4           0  2022-01-09 18:26:37.000      Organic  Organic  Organic  "
      ]
     },
     "execution_count": 162,
     "metadata": {},
     "output_type": "execute_result"
    }
   ],
   "source": [
    "data_df.head(5)"
   ]
  },
  {
   "cell_type": "code",
   "execution_count": 223,
   "metadata": {},
   "outputs": [
    {
     "data": {
      "text/plain": [
       "CAMPAIGN\n",
       "(WW) Slash & Roll Brand              10\n",
       "Organic                           30553\n",
       "SR_Android_DE_20211209_AEO          686\n",
       "SR_Android_PL_20210924_AAA            1\n",
       "SR_Android_TIER1_20220103_AEO      8753\n",
       "SR_Android_Tier1_20220104_tCPI     2864\n",
       "SR_Android_US_20211209_AEO         2069\n",
       "no_data                            2348\n",
       "restricted                         1784\n",
       "Name: PLAYER_ID, dtype: int64"
      ]
     },
     "execution_count": 223,
     "metadata": {},
     "output_type": "execute_result"
    }
   ],
   "source": [
    "# Które kampanie przyciągnęły najwiecej graczy\n",
    "data_df.groupby('CAMPAIGN').count()['PLAYER_ID']"
   ]
  },
  {
   "cell_type": "code",
   "execution_count": 229,
   "metadata": {},
   "outputs": [
    {
     "data": {
      "text/html": [
       "<div>\n",
       "<style scoped>\n",
       "    .dataframe tbody tr th:only-of-type {\n",
       "        vertical-align: middle;\n",
       "    }\n",
       "\n",
       "    .dataframe tbody tr th {\n",
       "        vertical-align: top;\n",
       "    }\n",
       "\n",
       "    .dataframe thead th {\n",
       "        text-align: right;\n",
       "    }\n",
       "</style>\n",
       "<table border=\"1\" class=\"dataframe\">\n",
       "  <thead>\n",
       "    <tr style=\"text-align: right;\">\n",
       "      <th></th>\n",
       "      <th>CAMPAIGN</th>\n",
       "      <th>PLAYER_ID</th>\n",
       "    </tr>\n",
       "  </thead>\n",
       "  <tbody>\n",
       "    <tr>\n",
       "      <th>0</th>\n",
       "      <td>(WW) Slash &amp; Roll Brand</td>\n",
       "      <td>10</td>\n",
       "    </tr>\n",
       "    <tr>\n",
       "      <th>1</th>\n",
       "      <td>Organic</td>\n",
       "      <td>30553</td>\n",
       "    </tr>\n",
       "    <tr>\n",
       "      <th>2</th>\n",
       "      <td>SR_Android_DE_20211209_AEO</td>\n",
       "      <td>686</td>\n",
       "    </tr>\n",
       "    <tr>\n",
       "      <th>3</th>\n",
       "      <td>SR_Android_PL_20210924_AAA</td>\n",
       "      <td>1</td>\n",
       "    </tr>\n",
       "    <tr>\n",
       "      <th>4</th>\n",
       "      <td>SR_Android_TIER1_20220103_AEO</td>\n",
       "      <td>8753</td>\n",
       "    </tr>\n",
       "    <tr>\n",
       "      <th>5</th>\n",
       "      <td>SR_Android_Tier1_20220104_tCPI</td>\n",
       "      <td>2864</td>\n",
       "    </tr>\n",
       "    <tr>\n",
       "      <th>6</th>\n",
       "      <td>SR_Android_US_20211209_AEO</td>\n",
       "      <td>2069</td>\n",
       "    </tr>\n",
       "    <tr>\n",
       "      <th>7</th>\n",
       "      <td>no_data</td>\n",
       "      <td>2348</td>\n",
       "    </tr>\n",
       "    <tr>\n",
       "      <th>8</th>\n",
       "      <td>restricted</td>\n",
       "      <td>1784</td>\n",
       "    </tr>\n",
       "  </tbody>\n",
       "</table>\n",
       "</div>"
      ],
      "text/plain": [
       "                         CAMPAIGN  PLAYER_ID\n",
       "0         (WW) Slash & Roll Brand         10\n",
       "1                         Organic      30553\n",
       "2      SR_Android_DE_20211209_AEO        686\n",
       "3      SR_Android_PL_20210924_AAA          1\n",
       "4   SR_Android_TIER1_20220103_AEO       8753\n",
       "5  SR_Android_Tier1_20220104_tCPI       2864\n",
       "6      SR_Android_US_20211209_AEO       2069\n",
       "7                         no_data       2348\n",
       "8                      restricted       1784"
      ]
     },
     "execution_count": 229,
     "metadata": {},
     "output_type": "execute_result"
    }
   ],
   "source": [
    "player_no = pd.DataFrame(data_df.groupby('CAMPAIGN').count()['PLAYER_ID'])\n",
    "player_no.reset_index(inplace=True)\n",
    "player_no"
   ]
  },
  {
   "cell_type": "code",
   "execution_count": 204,
   "metadata": {},
   "outputs": [],
   "source": [
    "# Filtruje dane tylko dla tych kampanii\n",
    "best_data_df = data_df[data_df['CAMPAIGN'].isin(['Organic', 'SR_Android_TIER1_20220103_AEO', 'SR_Android_Tier1_20220104_tCPI'])]\n"
   ]
  },
  {
   "cell_type": "code",
   "execution_count": 205,
   "metadata": {},
   "outputs": [],
   "source": [
    "# Dane do wykresu\n",
    "chart_data = best_data_df.groupby(['CAMPAIGN','DAY_OF_GAME']).count()['PLAYER_ID']\n",
    "chart_data = chart_data.reset_index()"
   ]
  },
  {
   "cell_type": "code",
   "execution_count": 215,
   "metadata": {},
   "outputs": [
    {
     "data": {
      "image/png": "[encoded data removed]",
      "text/plain": [
       "<Figure size 1200x600 with 1 Axes>"
      ]
     },
     "metadata": {},
     "output_type": "display_data"
    }
   ],
   "source": [
    "# Wykres\n",
    "plt.figure(figsize=(12,6))\n",
    "sns.lineplot(\n",
    "            data=chart_data,\n",
    "            x='DAY_OF_GAME',\n",
    "            y='PLAYER_ID',\n",
    "            hue='CAMPAIGN'\n",
    "            );\n"
   ]
  },
  {
   "cell_type": "code",
   "execution_count": 252,
   "metadata": {},
   "outputs": [
    {
     "data": {
      "text/html": [
       "<div>\n",
       "<style scoped>\n",
       "    .dataframe tbody tr th:only-of-type {\n",
       "        vertical-align: middle;\n",
       "    }\n",
       "\n",
       "    .dataframe tbody tr th {\n",
       "        vertical-align: top;\n",
       "    }\n",
       "\n",
       "    .dataframe thead th {\n",
       "        text-align: right;\n",
       "    }\n",
       "</style>\n",
       "<table border=\"1\" class=\"dataframe\">\n",
       "  <thead>\n",
       "    <tr style=\"text-align: right;\">\n",
       "      <th></th>\n",
       "      <th>CAMPAIGN</th>\n",
       "      <th>PLAYER_ID</th>\n",
       "      <th>PAID_IN_DAY</th>\n",
       "      <th>PLAYER_SPEND</th>\n",
       "    </tr>\n",
       "  </thead>\n",
       "  <tbody>\n",
       "    <tr>\n",
       "      <th>0</th>\n",
       "      <td>(WW) Slash &amp; Roll Brand</td>\n",
       "      <td>10</td>\n",
       "      <td>0</td>\n",
       "      <td>0.000000</td>\n",
       "    </tr>\n",
       "    <tr>\n",
       "      <th>1</th>\n",
       "      <td>Organic</td>\n",
       "      <td>30553</td>\n",
       "      <td>23431</td>\n",
       "      <td>0.766897</td>\n",
       "    </tr>\n",
       "    <tr>\n",
       "      <th>2</th>\n",
       "      <td>SR_Android_DE_20211209_AEO</td>\n",
       "      <td>686</td>\n",
       "      <td>333</td>\n",
       "      <td>0.485423</td>\n",
       "    </tr>\n",
       "    <tr>\n",
       "      <th>3</th>\n",
       "      <td>SR_Android_PL_20210924_AAA</td>\n",
       "      <td>1</td>\n",
       "      <td>0</td>\n",
       "      <td>0.000000</td>\n",
       "    </tr>\n",
       "    <tr>\n",
       "      <th>4</th>\n",
       "      <td>SR_Android_TIER1_20220103_AEO</td>\n",
       "      <td>8753</td>\n",
       "      <td>5220</td>\n",
       "      <td>0.596367</td>\n",
       "    </tr>\n",
       "    <tr>\n",
       "      <th>5</th>\n",
       "      <td>SR_Android_Tier1_20220104_tCPI</td>\n",
       "      <td>2864</td>\n",
       "      <td>433</td>\n",
       "      <td>0.151187</td>\n",
       "    </tr>\n",
       "    <tr>\n",
       "      <th>6</th>\n",
       "      <td>SR_Android_US_20211209_AEO</td>\n",
       "      <td>2069</td>\n",
       "      <td>1719</td>\n",
       "      <td>0.830836</td>\n",
       "    </tr>\n",
       "    <tr>\n",
       "      <th>7</th>\n",
       "      <td>no_data</td>\n",
       "      <td>2348</td>\n",
       "      <td>1056</td>\n",
       "      <td>0.449744</td>\n",
       "    </tr>\n",
       "    <tr>\n",
       "      <th>8</th>\n",
       "      <td>restricted</td>\n",
       "      <td>1784</td>\n",
       "      <td>1291</td>\n",
       "      <td>0.723655</td>\n",
       "    </tr>\n",
       "  </tbody>\n",
       "</table>\n",
       "</div>"
      ],
      "text/plain": [
       "                         CAMPAIGN  PLAYER_ID  PAID_IN_DAY  PLAYER_SPEND\n",
       "0         (WW) Slash & Roll Brand         10            0      0.000000\n",
       "1                         Organic      30553        23431      0.766897\n",
       "2      SR_Android_DE_20211209_AEO        686          333      0.485423\n",
       "3      SR_Android_PL_20210924_AAA          1            0      0.000000\n",
       "4   SR_Android_TIER1_20220103_AEO       8753         5220      0.596367\n",
       "5  SR_Android_Tier1_20220104_tCPI       2864          433      0.151187\n",
       "6      SR_Android_US_20211209_AEO       2069         1719      0.830836\n",
       "7                         no_data       2348         1056      0.449744\n",
       "8                      restricted       1784         1291      0.723655"
      ]
     },
     "execution_count": 252,
     "metadata": {},
     "output_type": "execute_result"
    }
   ],
   "source": [
    "# Przychody generowane przez graczy w każdej z kampanii\n",
    "\n",
    "# Biorąc pod uwagę retencję i przychody najlepszymi kampaniamii wydają się być 'Organic' oraz 'SR_Android_US_20211209_AEO'\n",
    "\n",
    "profit_no = pd.DataFrame(data_df.groupby('CAMPAIGN').sum()['PAID_IN_DAY'])\n",
    "profit_no.reset_index(inplace=True)\n",
    "profit_no = pd.merge(player_no,profit_no, how='left',on='CAMPAIGN')\n",
    "profit_no['PLAYER_SPEND'] = profit_no.apply(lambda row: row['PAID_IN_DAY']/row['PLAYER_ID'], axis=1)\n",
    "profit_no"
   ]
  }
 ],
 "metadata": {
  "kernelspec": {
   "display_name": "base",
   "language": "python",
   "name": "python3"
  },
  "language_info": {
   "codemirror_mode": {
    "name": "ipython",
    "version": 3
   },
   "file_extension": ".py",
   "mimetype": "text/x-python",
   "name": "python",
   "nbconvert_exporter": "python",
   "pygments_lexer": "ipython3",
   "version": "3.9.13 (main, Aug 25 2022, 23:51:50) [MSC v.1916 64 bit (AMD64)]"
  },
  "orig_nbformat": 4,
  "vscode": {
   "interpreter": {
    "hash": "19dc75bebfbe8f8d1e7a7cae56d1433d24ce0b1ca8c4592e0398edd2d2546419"
   }
  }
 },
 "nbformat": 4,
 "nbformat_minor": 2
}
